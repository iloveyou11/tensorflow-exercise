{
 "cells": [
  {
   "cell_type": "code",
   "execution_count": null,
   "metadata": {},
   "outputs": [],
   "source": [
    "# -*- coding: utf-8 -*-\n",
    "\n",
    "import tensorflow as tf\n",
    "import numpy as np\n",
    "import matplotlib.pyplot as plt\n",
    "%matplotlib inline\n",
    "import os, imageio"
   ]
  },
  {
   "cell_type": "code",
   "execution_count": null,
   "metadata": {},
   "outputs": [],
   "source": [
    "from tensorflow.examples.tutorials.mnist import input_data\n",
    "mnist = input_data.read_data_sets('MNIST_data')"
   ]
  },
  {
   "cell_type": "code",
   "execution_count": null,
   "metadata": {
    "collapsed": true
   },
   "outputs": [],
   "source": [
    "batch_size = 100\n",
    "z_dim = 100\n",
    "\n",
    "OUTPUT_DIR = 'samples'\n",
    "if not os.path.exists(OUTPUT_DIR):\n",
    "    os.mkdir(OUTPUT_DIR)\n",
    "\n",
    "X = tf.placeholder(dtype=tf.float32, shape=[None, 28, 28, 1], name='X')\n",
    "noise = tf.placeholder(dtype=tf.float32, shape=[None, z_dim], name='noise')\n",
    "is_training = tf.placeholder(dtype=tf.bool, name='is_training')\n",
    "\n",
    "# 激活函数leakyRelu\n",
    "def lrelu(x, leak=0.2):\n",
    "    return tf.maximum(x, leak * x)\n",
    "\n",
    "# 损失函数\n",
    "def sigmoid_cross_entropy_with_logits(x, y):\n",
    "    return tf.nn.sigmoid_cross_entropy_with_logits(logits=x, labels=y)"
   ]
  },
  {
   "cell_type": "code",
   "execution_count": null,
   "metadata": {
    "collapsed": true
   },
   "outputs": [],
   "source": [
    "# 判别器\n",
    "def discriminator(image, reuse=None, is_training=is_training):\n",
    "    momentum = 0.9 # 动量\n",
    "    \n",
    "    with tf.variable_scope('discriminator', reuse=reuse):\n",
    "\n",
    "        # 卷积开始,filters越来越多,图片越来越小\n",
    "        # h0: -1,28,28,1\n",
    "        # h1: -1,24,24,64\n",
    "        # h2: -1,12,12,128\n",
    "        # h3: -1,6,6,256\n",
    "        # h4: -1,3,3,512\n",
    "        # h4作为判别器输出\n",
    "        \n",
    "        h0 = lrelu(tf.layers.conv2d(image, kernel_size=5, filters=64, strides=2, padding='same'))\n",
    "        \n",
    "        h1 = tf.layers.conv2d(h0, kernel_size=5, filters=128, strides=2, padding='same')\n",
    "        # batch_norm转化为标准的高斯分布,指数加权滑动平均算法,decay是衰减系数\n",
    "        h1 = lrelu(tf.contrib.layers.batch_norm(h1, is_training=is_training, decay=momentum))\n",
    "        \n",
    "        h2 = tf.layers.conv2d(h1, kernel_size=5, filters=256, strides=2, padding='same')\n",
    "        h2 = lrelu(tf.contrib.layers.batch_norm(h2, is_training=is_training, decay=momentum))\n",
    "        \n",
    "        h3 = tf.layers.conv2d(h2, kernel_size=5, filters=512, strides=2, padding='same')\n",
    "        h3 = lrelu(tf.contrib.layers.batch_norm(h3, is_training=is_training, decay=momentum))\n",
    "        \n",
    "        h4 = tf.contrib.layers.flatten(h3)\n",
    "        h4 = tf.layers.dense(h4, units=1)\n",
    "        # 返回经过sigmoid处理后的h4和未被激活的h4\n",
    "        return tf.nn.sigmoid(h4), h4"
   ]
  },
  {
   "cell_type": "code",
   "execution_count": null,
   "metadata": {
    "collapsed": true
   },
   "outputs": [],
   "source": [
    "# 生成器,噪音z,二维tensor\n",
    "def generator(z, is_training=is_training):\n",
    "    momentum = 0.9\n",
    "    with tf.variable_scope('generator', reuse=None):\n",
    "        d = 3\n",
    "\n",
    "        # 逆卷积开始,filters越来越少\n",
    "        # h0: -1,3,3,512\n",
    "        # h1: -1,6,6,256\n",
    "        # h2: -1,12,12,128\n",
    "        # h3: -1,24,24,64\n",
    "        # h4: -1,28,28,1\n",
    "        # h4作为生成器的输出\n",
    "\n",
    "        h0 = tf.layers.dense(z, units=d * d * 512)\n",
    "        h0 = tf.reshape(h0, shape=[-1, d, d, 512])\n",
    "        h0 = tf.nn.relu(tf.contrib.layers.batch_norm(h0, is_training=is_training, decay=momentum))\n",
    "        \n",
    "        h1 = tf.layers.conv2d_transpose(h0, kernel_size=5, filters=256, strides=2, padding='same')\n",
    "        h1 = tf.nn.relu(tf.contrib.layers.batch_norm(h1, is_training=is_training, decay=momentum))\n",
    "        \n",
    "        h2 = tf.layers.conv2d_transpose(h1, kernel_size=5, filters=128, strides=2, padding='same')\n",
    "        h2 = tf.nn.relu(tf.contrib.layers.batch_norm(h2, is_training=is_training, decay=momentum))\n",
    "        \n",
    "        h3 = tf.layers.conv2d_transpose(h2, kernel_size=5, filters=64, strides=2, padding='same')\n",
    "        h3 = tf.nn.relu(tf.contrib.layers.batch_norm(h3, is_training=is_training, decay=momentum))\n",
    "        \n",
    "        h4 = tf.layers.conv2d_transpose(h3, kernel_size=5, filters=1, strides=1, padding='valid', activation=tf.nn.tanh, name='g')\n",
    "        return h4"
   ]
  },
  {
   "cell_type": "code",
   "execution_count": null,
   "metadata": {
    "collapsed": true
   },
   "outputs": [],
   "source": [
    "g = generator(noise) # 生成的假图片\n",
    "d_real, d_real_logits = discriminator(X) # 真图片激活后h4和未激活h4的值\n",
    "d_fake, d_fake_logits = discriminator(g, reuse=True) # 假图片激活后h4和未激活h4的值\n",
    "\n",
    "vars_g = [var for var in tf.trainable_variables() if var.name.startswith('generator')] # 和generator相关的参数\n",
    "vars_d = [var for var in tf.trainable_variables() if var.name.startswith('discriminator')] # 和discriminator相关的参数\n",
    "\n",
    "loss_d_real = tf.reduce_mean(sigmoid_cross_entropy_with_logits(d_real_logits, tf.ones_like(d_real))) # 真图片导致的判别器损失\n",
    "loss_d_fake = tf.reduce_mean(sigmoid_cross_entropy_with_logits(d_fake_logits, tf.zeros_like(d_fake))) # 假图片导致的判别器损失\n",
    "loss_g = tf.reduce_mean(sigmoid_cross_entropy_with_logits(d_fake_logits, tf.ones_like(d_fake))) # 生成器损失\n",
    "loss_d = loss_d_real + loss_d_fake # 判别器损失(真图片+假图片)"
   ]
  },
  {
   "cell_type": "code",
   "execution_count": null,
   "metadata": {
    "collapsed": true
   },
   "outputs": [],
   "source": [
    "# 优化函数\n",
    "# 先完成update_ops的相关操作(如BN的参数更新),再完成后续的优化操作\n",
    "update_ops = tf.get_collection(tf.GraphKeys.UPDATE_OPS)\n",
    "with tf.control_dependencies(update_ops):\n",
    "    optimizer_d = tf.train.AdamOptimizer(learning_rate=0.0002, beta1=0.5).minimize(loss_d, var_list=vars_d)\n",
    "    optimizer_g = tf.train.AdamOptimizer(learning_rate=0.0002, beta1=0.5).minimize(loss_g, var_list=vars_g)"
   ]
  },
  {
   "cell_type": "code",
   "execution_count": null,
   "metadata": {
    "collapsed": true
   },
   "outputs": [],
   "source": [
    "# 辅助函数,用于将多张图片以网格状拼接在一起\n",
    "def montage(images):\n",
    "    if isinstance(images, list):\n",
    "        images = np.array(images)\n",
    "    img_h = images.shape[1]\n",
    "    img_w = images.shape[2]\n",
    "    n_plots = int(np.ceil(np.sqrt(images.shape[0])))\n",
    "    m = np.ones((images.shape[1] * n_plots + n_plots + 1, images.shape[2] * n_plots + n_plots + 1)) * 0.5\n",
    "    for i in range(n_plots):\n",
    "        for j in range(n_plots):\n",
    "            this_filter = i * n_plots + j\n",
    "            if this_filter < images.shape[0]:\n",
    "                this_img = images[this_filter]\n",
    "                m[1 + i + i * img_h:1 + i + (i + 1) * img_h,\n",
    "                  1 + j + j * img_w:1 + j + (j + 1) * img_w] = this_img\n",
    "    return m"
   ]
  },
  {
   "cell_type": "code",
   "execution_count": null,
   "metadata": {},
   "outputs": [],
   "source": [
    "# 开始训练(需要交替训练,如每次迭代训练G两次)\n",
    "sess = tf.Session()\n",
    "sess.run(tf.global_variables_initializer())\n",
    "z_samples = np.random.uniform(-1.0, 1.0, [batch_size, z_dim]).astype(np.float32)\n",
    "samples = []\n",
    "loss = {'d': [], 'g': []}\n",
    "\n",
    "for i in range(60000):\n",
    "    # 产生随机noise\n",
    "    n = np.random.uniform(-1.0, 1.0, [batch_size, z_dim]).astype(np.float32)\n",
    "    # 依次取数据\n",
    "    batch = mnist.train.next_batch(batch_size=batch_size)[0]\n",
    "    batch = np.reshape(batch, [-1, 28, 28, 1])\n",
    "    # batch是0~1(relu),我们要将它映射到-1~1(tanh的取值范围)\n",
    "    batch = (batch - 0.5) * 2 \n",
    "    \n",
    "    d_ls, g_ls = sess.run([loss_d, loss_g], feed_dict={X: batch, noise: n, is_training: True})\n",
    "    loss['d'].append(d_ls)\n",
    "    loss['g'].append(g_ls)\n",
    "    \n",
    "    #依次训练D-G-G(判别器训练1次,生成器训练2次)\n",
    "    sess.run(optimizer_d, feed_dict={X: batch, noise: n, is_training: True})\n",
    "    sess.run(optimizer_g, feed_dict={X: batch, noise: n, is_training: True})\n",
    "    sess.run(optimizer_g, feed_dict={X: batch, noise: n, is_training: True})\n",
    "    \n",
    "    # 每迭代1000轮,打印样本\n",
    "    if i % 1000 == 0:\n",
    "        print(i, d_ls, g_ls)\n",
    "        gen_imgs = sess.run(g, feed_dict={noise: z_samples, is_training: False})\n",
    "        # -1~1转0~1\n",
    "        gen_imgs = (gen_imgs + 1) / 2\n",
    "        imgs = [img[:, :, 0] for img in gen_imgs]\n",
    "        gen_imgs = montage(imgs)\n",
    "        plt.axis('off')\n",
    "        plt.imshow(gen_imgs, cmap='gray')\n",
    "        plt.savefig(os.path.join(OUTPUT_DIR, 'sample_%d.jpg' % i))\n",
    "        plt.show()\n",
    "        samples.append(gen_imgs)\n",
    "\n",
    "plt.plot(loss['d'], label='Discriminator')\n",
    "plt.plot(loss['g'], label='Generator')\n",
    "plt.legend(loc='upper right')\n",
    "plt.savefig('Loss.png')\n",
    "plt.show()\n",
    "imageio.mimsave(os.path.join(OUTPUT_DIR, 'samples.gif'), samples, fps=5)"
   ]
  },
  {
   "cell_type": "code",
   "execution_count": null,
   "metadata": {
    "collapsed": true
   },
   "outputs": [],
   "source": [
    "saver = tf.train.Saver()\n",
    "saver.save(sess, './mnist_dcgan', global_step=60000)"
   ]
  }
 ],
 "metadata": {
  "kernelspec": {
   "display_name": "Python 3",
   "language": "python",
   "name": "python3"
  },
  "language_info": {
   "codemirror_mode": {
    "name": "ipython",
    "version": 3
   },
   "file_extension": ".py",
   "mimetype": "text/x-python",
   "name": "python",
   "nbconvert_exporter": "python",
   "pygments_lexer": "ipython3",
   "version": "3.6.2"
  }
 },
 "nbformat": 4,
 "nbformat_minor": 2
}