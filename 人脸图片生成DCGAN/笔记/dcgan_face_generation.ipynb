{
 "cells": [
  {
   "cell_type": "code",
   "execution_count": null,
   "metadata": {},
   "outputs": [],
   "source": [
    "# -*- coding: utf-8 -*-\n",
    "\n",
    "import tensorflow as tf\n",
    "import numpy as np\n",
    "import urllib\n",
    "import tarfile\n",
    "import os\n",
    "import matplotlib.pyplot as plt\n",
    "%matplotlib inline\n",
    "from imageio import imread, imsave, mimsave\n",
    "from scipy.misc import imresize\n",
    "import glob # 读取图片路径"
   ]
  },
  {
   "cell_type": "code",
   "execution_count": null,
   "metadata": {
    "collapsed": true
   },
   "outputs": [],
   "source": [
    "# 下载和处理LFW数据\n",
    "# 因为下载的文件夹中含有各个人名子文件夹,我们现在的任务是将它们全部转移保存到同一文件夹中\n",
    "url = 'http://vis-www.cs.umass.edu/lfw/lfw.tgz'\n",
    "filename = 'lfw.tgz'\n",
    "directory = 'lfw_imgs'\n",
    "new_dir = 'lfw_new_imgs'\n",
    "\n",
    "if not os.path.isdir(new_dir):\n",
    "    os.mkdir(new_dir)\n",
    "    \n",
    "    if not os.path.isdir(directory):\n",
    "        if not os.path.isfile(filename):\n",
    "            urllib.request.urlretrieve(url, filename)\n",
    "        tar = tarfile.open(filename, 'r:gz')\n",
    "        tar.extractall(path=directory)\n",
    "        tar.close()\n",
    "    \n",
    "    count = 0\n",
    "    for dir_, _, files in os.walk(directory):\n",
    "        for file_ in files:\n",
    "            img = imread(os.path.join(dir_, file_))\n",
    "            imsave(os.path.join(new_dir, '%d.png' % count), img)\n",
    "            count += 1"
   ]
  },
  {
   "cell_type": "code",
   "execution_count": null,
   "metadata": {},
   "outputs": [],
   "source": [
    "# 指定要用哪个数据集\n",
    "# dataset = 'lfw_new_imgs' # LFW\n",
    "dataset = 'celeba' # CelebA\n",
    "images = glob.glob(os.path.join(dataset, '*.*')) \n",
    "# print(len(images))"
   ]
  },
  {
   "cell_type": "code",
   "execution_count": null,
   "metadata": {
    "collapsed": true
   },
   "outputs": [],
   "source": [
    "batch_size = 100\n",
    "z_dim = 100\n",
    "WIDTH = 64\n",
    "HEIGHT = 64\n",
    "\n",
    "OUTPUT_DIR = 'samples_' + dataset\n",
    "if not os.path.exists(OUTPUT_DIR):\n",
    "    os.mkdir(OUTPUT_DIR)\n",
    "\n",
    "# 彩色图,3通道\n",
    "X = tf.placeholder(dtype=tf.float32, shape=[None, HEIGHT, WIDTH, 3], name='X')\n",
    "noise = tf.placeholder(dtype=tf.float32, shape=[None, z_dim], name='noise')\n",
    "is_training = tf.placeholder(dtype=tf.bool, name='is_training')\n",
    "\n",
    "def lrelu(x, leak=0.2):\n",
    "    return tf.maximum(x, leak * x)\n",
    "\n",
    "def sigmoid_cross_entropy_with_logits(x, y):\n",
    "    return tf.nn.sigmoid_cross_entropy_with_logits(logits=x, labels=y)"
   ]
  },
  {
   "cell_type": "code",
   "execution_count": null,
   "metadata": {
    "collapsed": true
   },
   "outputs": [],
   "source": [
    "# 判别器(和GAN相同)\n",
    "def discriminator(image, reuse=None, is_training=is_training):\n",
    "    momentum = 0.9\n",
    "    with tf.variable_scope('discriminator', reuse=reuse):\n",
    "        h0 = lrelu(tf.layers.conv2d(image, kernel_size=5, filters=64, strides=2, padding='same'))\n",
    "        \n",
    "        h1 = tf.layers.conv2d(h0, kernel_size=5, filters=128, strides=2, padding='same')\n",
    "        h1 = lrelu(tf.contrib.layers.batch_norm(h1, is_training=is_training, decay=momentum))\n",
    "        \n",
    "        h2 = tf.layers.conv2d(h1, kernel_size=5, filters=256, strides=2, padding='same')\n",
    "        h2 = lrelu(tf.contrib.layers.batch_norm(h2, is_training=is_training, decay=momentum))\n",
    "        \n",
    "        h3 = tf.layers.conv2d(h2, kernel_size=5, filters=512, strides=2, padding='same')\n",
    "        h3 = lrelu(tf.contrib.layers.batch_norm(h3, is_training=is_training, decay=momentum))\n",
    "        \n",
    "        h4 = tf.contrib.layers.flatten(h3)\n",
    "        h4 = tf.layers.dense(h4, units=1)\n",
    "        return tf.nn.sigmoid(h4), h4"
   ]
  },
  {
   "cell_type": "code",
   "execution_count": null,
   "metadata": {
    "collapsed": true
   },
   "outputs": [],
   "source": [
    "# 生成器(d改为4,GAN的d是3)\n",
    "def generator(z, is_training=is_training):\n",
    "    momentum = 0.9\n",
    "    with tf.variable_scope('generator', reuse=None):\n",
    "        d = 4\n",
    "\n",
    "        # h0: -1,4,4,512\n",
    "        # h1: -1,8,8,256\n",
    "        # h2: -1,16,16,128\n",
    "        # h3: -1,32,32,64\n",
    "        # h4: -1,64,64,3\n",
    "        # h4作为判别器输出\n",
    "\n",
    "        h0 = tf.layers.dense(z, units=d * d * 512)\n",
    "        h0 = tf.reshape(h0, shape=[-1, d, d, 512])\n",
    "        h0 = tf.nn.relu(tf.contrib.layers.batch_norm(h0, is_training=is_training, decay=momentum))\n",
    "        \n",
    "        h1 = tf.layers.conv2d_transpose(h0, kernel_size=5, filters=256, strides=2, padding='same')\n",
    "        h1 = tf.nn.relu(tf.contrib.layers.batch_norm(h1, is_training=is_training, decay=momentum))\n",
    "        \n",
    "        h2 = tf.layers.conv2d_transpose(h1, kernel_size=5, filters=128, strides=2, padding='same')\n",
    "        h2 = tf.nn.relu(tf.contrib.layers.batch_norm(h2, is_training=is_training, decay=momentum))\n",
    "        \n",
    "        h3 = tf.layers.conv2d_transpose(h2, kernel_size=5, filters=64, strides=2, padding='same')\n",
    "        h3 = tf.nn.relu(tf.contrib.layers.batch_norm(h3, is_training=is_training, decay=momentum))\n",
    "        \n",
    "        h4 = tf.layers.conv2d_transpose(h3, kernel_size=5, filters=3, strides=2, padding='same', activation=tf.nn.tanh, name='g')\n",
    "        return h4"
   ]
  },
  {
   "cell_type": "code",
   "execution_count": null,
   "metadata": {
    "collapsed": true
   },
   "outputs": [],
   "source": [
    "g = generator(noise)\n",
    "d_real, d_real_logits = discriminator(X)\n",
    "d_fake, d_fake_logits = discriminator(g, reuse=True)\n",
    "\n",
    "vars_g = [var for var in tf.trainable_variables() if var.name.startswith('generator')]\n",
    "vars_d = [var for var in tf.trainable_variables() if var.name.startswith('discriminator')]\n",
    "\n",
    "loss_d_real = tf.reduce_mean(sigmoid_cross_entropy_with_logits(d_real_logits, tf.ones_like(d_real)))\n",
    "loss_d_fake = tf.reduce_mean(sigmoid_cross_entropy_with_logits(d_fake_logits, tf.zeros_like(d_fake)))\n",
    "loss_g = tf.reduce_mean(sigmoid_cross_entropy_with_logits(d_fake_logits, tf.ones_like(d_fake)))\n",
    "loss_d = loss_d_real + loss_d_fake"
   ]
  },
  {
   "cell_type": "code",
   "execution_count": null,
   "metadata": {
    "collapsed": true
   },
   "outputs": [],
   "source": [
    "update_ops = tf.get_collection(tf.GraphKeys.UPDATE_OPS)\n",
    "with tf.control_dependencies(update_ops):\n",
    "    optimizer_d = tf.train.AdamOptimizer(learning_rate=0.0002, beta1=0.5).minimize(loss_d, var_list=vars_d)\n",
    "    optimizer_g = tf.train.AdamOptimizer(learning_rate=0.0002, beta1=0.5).minimize(loss_g, var_list=vars_g)"
   ]
  },
  {
   "cell_type": "code",
   "execution_count": null,
   "metadata": {
    "collapsed": true
   },
   "outputs": [],
   "source": [
    "# 读取图片的函数\n",
    "def read_image(path, height, width):\n",
    "    image = imread(path)\n",
    "    h = image.shape[0]\n",
    "    w = image.shape[1]\n",
    "    \n",
    "    if h > w:\n",
    "        image = image[h // 2 - w // 2: h // 2 + w // 2, :, :]\n",
    "    else:\n",
    "        image = image[:, w // 2 - h // 2: w // 2 + h // 2, :]    \n",
    "    \n",
    "    image = imresize(image, (height, width))\n",
    "    # image是1-255\n",
    "    return image / 255. # 0-1之间"
   ]
  },
  {
   "cell_type": "code",
   "execution_count": null,
   "metadata": {
    "collapsed": true
   },
   "outputs": [],
   "source": [
    "# 合成图片的函数\n",
    "def montage(images):    \n",
    "    if isinstance(images, list):\n",
    "        images = np.array(images)\n",
    "    img_h = images.shape[1]\n",
    "    img_w = images.shape[2]\n",
    "    n_plots = int(np.ceil(np.sqrt(images.shape[0])))\n",
    "    if len(images.shape) == 4 and images.shape[3] == 3:\n",
    "        m = np.ones(\n",
    "            (images.shape[1] * n_plots + n_plots + 1,\n",
    "             images.shape[2] * n_plots + n_plots + 1, 3)) * 0.5\n",
    "    elif len(images.shape) == 4 and images.shape[3] == 1:\n",
    "        m = np.ones(\n",
    "            (images.shape[1] * n_plots + n_plots + 1,\n",
    "             images.shape[2] * n_plots + n_plots + 1, 1)) * 0.5\n",
    "    elif len(images.shape) == 3:\n",
    "        m = np.ones(\n",
    "            (images.shape[1] * n_plots + n_plots + 1,\n",
    "             images.shape[2] * n_plots + n_plots + 1)) * 0.5\n",
    "    else:\n",
    "        raise ValueError('Could not parse image shape of {}'.format(images.shape))\n",
    "    for i in range(n_plots):\n",
    "        for j in range(n_plots):\n",
    "            this_filter = i * n_plots + j\n",
    "            if this_filter < images.shape[0]:\n",
    "                this_img = images[this_filter]\n",
    "                m[1 + i + i * img_h:1 + i + (i + 1) * img_h,\n",
    "                  1 + j + j * img_w:1 + j + (j + 1) * img_w] = this_img\n",
    "    return m"
   ]
  },
  {
   "cell_type": "code",
   "execution_count": null,
   "metadata": {},
   "outputs": [],
   "source": [
    "# 开始训练\n",
    "sess = tf.Session()\n",
    "sess.run(tf.global_variables_initializer())\n",
    "z_samples = np.random.uniform(-1.0, 1.0, [batch_size, z_dim]).astype(np.float32)\n",
    "samples = []\n",
    "loss = {'d': [], 'g': []}\n",
    "\n",
    "offset = 0\n",
    "for i in range(60000):\n",
    "    n = np.random.uniform(-1.0, 1.0, [batch_size, z_dim]).astype(np.float32)\n",
    "    \n",
    "    offset = (offset + batch_size) % len(images)\n",
    "    batch = np.array([read_image(img, HEIGHT, WIDTH) for img in images[offset: offset + batch_size]])\n",
    "    batch = (batch - 0.5) * 2\n",
    "    \n",
    "    d_ls, g_ls = sess.run([loss_d, loss_g], feed_dict={X: batch, noise: n, is_training: True})\n",
    "    loss['d'].append(d_ls)\n",
    "    loss['g'].append(g_ls)\n",
    "    \n",
    "    sess.run(optimizer_d, feed_dict={X: batch, noise: n, is_training: True})\n",
    "    sess.run(optimizer_g, feed_dict={X: batch, noise: n, is_training: True})\n",
    "    sess.run(optimizer_g, feed_dict={X: batch, noise: n, is_training: True})\n",
    "        \n",
    "    if i % 500 == 0:\n",
    "        print(i, d_ls, g_ls)\n",
    "        gen_imgs = sess.run(g, feed_dict={noise: z_samples, is_training: False})\n",
    "        gen_imgs = (gen_imgs + 1) / 2\n",
    "        imgs = [img[:, :, :] for img in gen_imgs]\n",
    "        gen_imgs = montage(imgs)\n",
    "        plt.axis('off')\n",
    "        plt.imshow(gen_imgs)\n",
    "        imsave(os.path.join(OUTPUT_DIR, 'sample_%d.jpg' % i), gen_imgs)\n",
    "        plt.show()\n",
    "        samples.append(gen_imgs)\n",
    "\n",
    "plt.plot(loss['d'], label='Discriminator')\n",
    "plt.plot(loss['g'], label='Generator')\n",
    "plt.legend(loc='upper right')\n",
    "plt.savefig(os.path.join(OUTPUT_DIR, 'Loss.png'))\n",
    "plt.show()\n",
    "mimsave(os.path.join(OUTPUT_DIR, 'samples.gif'), samples, fps=10)"
   ]
  },
  {
   "cell_type": "code",
   "execution_count": null,
   "metadata": {},
   "outputs": [],
   "source": [
    "saver = tf.train.Saver()\n",
    "saver.save(sess, os.path.join(OUTPUT_DIR, 'dcgan_' + dataset), global_step=60000)"
   ]
  },
  {
   "cell_type": "code",
   "execution_count": null,
   "metadata": {
    "collapsed": true
   },
   "outputs": [],
   "source": []
  }
 ],
 "metadata": {
  "kernelspec": {
   "display_name": "Python 3",
   "language": "python",
   "name": "python3"
  },
  "language_info": {
   "codemirror_mode": {
    "name": "ipython",
    "version": 3
   },
   "file_extension": ".py",
   "mimetype": "text/x-python",
   "name": "python",
   "nbconvert_exporter": "python",
   "pygments_lexer": "ipython3",
   "version": "3.6.2"
  }
 },
 "nbformat": 4,
 "nbformat_minor": 2
}